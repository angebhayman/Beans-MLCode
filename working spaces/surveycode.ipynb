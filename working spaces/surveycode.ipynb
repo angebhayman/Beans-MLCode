{
 "cells": [
  {
   "cell_type": "code",
   "execution_count": 1,
   "id": "4ab352ec",
   "metadata": {},
   "outputs": [],
   "source": [
    "import pandas as pd\n",
    "\n",
    "seventeen = pd.read_csv('2017-data.csv')\n",
    "seventeen['year'] = 2017\n",
    "eighteen = pd.read_csv('2018-data.csv')\n",
    "eighteen['year'] = 2018\n",
    "nineteen = pd.read_csv('2019-data.csv')\n",
    "nineteen['year'] = 2019\n",
    "twentyone = pd.read_csv('2021-data.csv')\n",
    "twentyone['year'] = 2021\n",
    "twentytwo = pd.read_csv('2022-data.csv')\n",
    "twentytwo['year'] = 2022\n",
    "twentythree = pd.read_csv('2023-data.csv')\n",
    "twentythree['year'] = 2022"
   ]
  },
  {
   "cell_type": "code",
   "execution_count": 2,
   "id": "8c06f39e",
   "metadata": {},
   "outputs": [],
   "source": [
    "survey = pd.concat([seventeen, eighteen, nineteen, twentyone, twentytwo, twentythree], ignore_index=True)"
   ]
  },
  {
   "cell_type": "code",
   "execution_count": 3,
   "id": "69666e9e",
   "metadata": {},
   "outputs": [],
   "source": [
    "survey = survey.dropna(axis=1, how='all')"
   ]
  },
  {
   "cell_type": "code",
   "execution_count": 4,
   "id": "dfeb9141",
   "metadata": {},
   "outputs": [],
   "source": [
    "cols = survey.columns.tolist()\n",
    "cols = ['year'] + [col for col in cols if col != 'year']\n",
    "survey = survey[cols]"
   ]
  },
  {
   "cell_type": "code",
   "execution_count": 5,
   "id": "39ea568a",
   "metadata": {},
   "outputs": [
    {
     "name": "stdout",
     "output_type": "stream",
     "text": [
      "   year     DBN                     School Name Total Parent Response Rate  \\\n",
      "0  2017  01M015       P.S. 015 Roberto Clemente                        88%   \n",
      "1  2017  01M019             P.S. 019 Asher Levy                       100%   \n",
      "2  2017  01M020            P.S. 020 Anna Silver                        60%   \n",
      "3  2017  01M034  P.S. 034 Franklin D. Roosevelt                        29%   \n",
      "4  2017  01M063       The Star Academy - P.S.63                        72%   \n",
      "\n",
      "    Q1   Q2   Q3   Q4   Q5   Q6  ...   Q9  Q10  Q11  Q12  Q13  Q14  Q15  Q16  \\\n",
      "0  96%  96%  96%  94%  92%  96%  ...  96%  94%  94%  96%  95%  94%  96%  92%   \n",
      "1  96%  97%  97%  96%  96%  94%  ...  98%  93%  96%  94%  93%  98%  96%  96%   \n",
      "2  88%  89%  95%  90%  95%  93%  ...  93%  91%  91%  91%  94%  95%  95%  89%   \n",
      "3  92%  89%  93%  91%  96%  91%  ...  87%  92%  92%  91%  92%  92%  95%  94%   \n",
      "4  96%  94%  98%  93%  98%  93%  ...  98%  94%  95%  97%  98%  98%  98%  94%   \n",
      "\n",
      "   Q17  Q18  \n",
      "0  95%  94%  \n",
      "1  98%  73%  \n",
      "2  90%  91%  \n",
      "3  94%  91%  \n",
      "4  97%  92%  \n",
      "\n",
      "[5 rows x 22 columns]\n"
     ]
    }
   ],
   "source": [
    "survey = survey.drop(columns=['Total Family Response Count', 'Total Family Response Rate'])\n",
    "print(survey.head())  "
   ]
  },
  {
   "cell_type": "code",
   "execution_count": 6,
   "id": "651c6abf",
   "metadata": {},
   "outputs": [],
   "source": [
    "survey.to_csv('survey.csv', index=False)"
   ]
  }
 ],
 "metadata": {
  "kernelspec": {
   "display_name": "Python 3",
   "language": "python",
   "name": "python3"
  },
  "language_info": {
   "codemirror_mode": {
    "name": "ipython",
    "version": 3
   },
   "file_extension": ".py",
   "mimetype": "text/x-python",
   "name": "python",
   "nbconvert_exporter": "python",
   "pygments_lexer": "ipython3",
   "version": "3.12.1"
  }
 },
 "nbformat": 4,
 "nbformat_minor": 5
}
