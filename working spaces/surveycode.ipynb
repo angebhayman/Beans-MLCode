{
 "cells": [
  {
   "cell_type": "code",
   "execution_count": 2,
   "id": "4ab352ec",
   "metadata": {},
   "outputs": [],
   "source": [
    "import pandas as pd\n",
    "\n",
    "seventeen = pd.read_csv('/workspaces/Beans-MLCode/data/2017-data.csv')\n",
    "seventeen['year'] = 2017\n",
    "eighteen = pd.read_csv('/workspaces/Beans-MLCode/data/2018-data.csv')\n",
    "eighteen['year'] = 2018\n",
    "nineteen = pd.read_csv('/workspaces/Beans-MLCode/data/2019-data.csv')\n",
    "nineteen['year'] = 2019\n",
    "twentyone = pd.read_csv('/workspaces/Beans-MLCode/data/2021-data.csv')\n",
    "twentyone['year'] = 2021\n",
    "twentytwo = pd.read_csv('/workspaces/Beans-MLCode/data/2022-data.csv')\n",
    "twentytwo['year'] = 2022\n",
    "twentythree = pd.read_csv('/workspaces/Beans-MLCode/data/2023-data.csv')\n",
    "twentythree['year'] = 2023"
   ]
  },
  {
   "cell_type": "code",
   "execution_count": null,
   "id": "fbebb03f",
   "metadata": {},
   "outputs": [
    {
     "name": "stdout",
     "output_type": "stream",
     "text": [
      "(2966, 34)\n"
     ]
    }
   ],
   "source": [
    "print(seventeen.shape)\n",
    "print(eighteen.shape)\n",
    "print(nineteen.shape)"
   ]
  },
  {
   "cell_type": "code",
   "execution_count": 3,
   "id": "8c06f39e",
   "metadata": {},
   "outputs": [],
   "source": [
    "survey = pd.concat([seventeen, eighteen, nineteen, twentyone, twentytwo, twentythree], ignore_index=True)"
   ]
  },
  {
   "cell_type": "code",
   "execution_count": 8,
   "id": "944b9228",
   "metadata": {},
   "outputs": [
    {
     "name": "stdout",
     "output_type": "stream",
     "text": [
      "(17943, 22)\n"
     ]
    }
   ],
   "source": [
    "print(survey.shape)"
   ]
  },
  {
   "cell_type": "code",
   "execution_count": 9,
   "id": "69666e9e",
   "metadata": {},
   "outputs": [],
   "source": [
    "survey = survey.dropna(axis=1, how='all')"
   ]
  },
  {
   "cell_type": "code",
   "execution_count": 10,
   "id": "dfeb9141",
   "metadata": {},
   "outputs": [],
   "source": [
    "cols = survey.columns.tolist()\n",
    "cols = ['year'] + [col for col in cols if col != 'year']\n",
    "survey = survey[cols]"
   ]
  },
  {
   "cell_type": "code",
   "execution_count": 6,
   "id": "651c6abf",
   "metadata": {},
   "outputs": [],
   "source": [
    "survey.to_csv('survey.csv', index=False)"
   ]
  }
 ],
 "metadata": {
  "kernelspec": {
   "display_name": "Python 3",
   "language": "python",
   "name": "python3"
  },
  "language_info": {
   "codemirror_mode": {
    "name": "ipython",
    "version": 3
   },
   "file_extension": ".py",
   "mimetype": "text/x-python",
   "name": "python",
   "nbconvert_exporter": "python",
   "pygments_lexer": "ipython3",
   "version": "3.12.1"
  }
 },
 "nbformat": 4,
 "nbformat_minor": 5
}
